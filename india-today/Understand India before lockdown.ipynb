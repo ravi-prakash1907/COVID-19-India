{
 "cells": [
  {
   "cell_type": "markdown",
   "metadata": {},
   "source": [
    "# Understanding India"
   ]
  },
  {
   "cell_type": "markdown",
   "metadata": {},
   "source": [
    "### Sync Death/Active/Recovered cases' rows"
   ]
  },
  {
   "cell_type": "markdown",
   "metadata": {},
   "source": [
    "<br /><br />"
   ]
  },
  {
   "cell_type": "code",
   "execution_count": null,
   "metadata": {},
   "outputs": [],
   "source": [
    "# Setting the working directory\n",
    "setwd(\"~/Documents/COVID-19-India/before-lockdown/\")"
   ]
  },
  {
   "cell_type": "code",
   "execution_count": null,
   "metadata": {},
   "outputs": [],
   "source": [
    "#library(ggplot2)   # gg menns ->   grammer of graphics\n",
    "library(tidyverse)\n",
    "library(stringr)\n",
    "library(lattice)\n",
    "library(plyr) # used to calculate the average weight of each group "
   ]
  },
  {
   "cell_type": "code",
   "execution_count": null,
   "metadata": {},
   "outputs": [],
   "source": [
    "growth = read.csv(\"ready_to_use/India_Aggregate_summary.csv\")\n",
    "india = read.csv(\"ready_to_use/India_Aggregate_dateWise_summary.csv\")\n",
    "\n",
    "india$Day = as.factor(india$Day)\n",
    "class(india$Day)"
   ]
  },
  {
   "cell_type": "code",
   "execution_count": null,
   "metadata": {},
   "outputs": [],
   "source": [
    "tail(india)"
   ]
  },
  {
   "cell_type": "markdown",
   "metadata": {},
   "source": [
    "<br /><br />"
   ]
  },
  {
   "cell_type": "code",
   "execution_count": null,
   "metadata": {},
   "outputs": [],
   "source": [
    "options(repr.plot.width=16, repr.plot.height=8)"
   ]
  },
  {
   "cell_type": "markdown",
   "metadata": {},
   "source": [
    "## Line Graplas"
   ]
  },
  {
   "cell_type": "markdown",
   "metadata": {},
   "source": [
    "### Confirmed (cumulative) Cases over the days"
   ]
  },
  {
   "cell_type": "code",
   "execution_count": null,
   "metadata": {},
   "outputs": [],
   "source": [
    "ggplot(india, aes(x=as.numeric(Day), y=Confirmed)) +\n",
    "    geom_line(color = \"#14a9d5\", size=2) +\n",
    "    geom_point(color = \"#ffffff\", size=3) +\n",
    "    geom_point(color = \"#14a9d5\", size=4)+\n",
    "    theme_classic()"
   ]
  },
  {
   "cell_type": "markdown",
   "metadata": {},
   "source": [
    "### New Cases over the days"
   ]
  },
  {
   "cell_type": "code",
   "execution_count": null,
   "metadata": {},
   "outputs": [],
   "source": [
    "ggplot(india, aes(x=as.numeric(Day), y=New.Cases)) +\n",
    "    geom_line(color = \"#148314\", size=2) +\n",
    "    geom_point(color = \"#ffffff\", size=3) +\n",
    "    geom_point(color = \"#148314\", size=4)+\n",
    "    theme_classic()"
   ]
  },
  {
   "cell_type": "markdown",
   "metadata": {},
   "source": [
    "# Death Rate over the days"
   ]
  },
  {
   "cell_type": "code",
   "execution_count": null,
   "metadata": {},
   "outputs": [],
   "source": [
    "## death rate over the days\n",
    "ggplot(india, aes(x=as.numeric(Day), y=Death.Rate)) +\n",
    "    geom_line(color = \"#750eea\", size=2) +\n",
    "    geom_point(color = \"#ffffff\", size=3) +\n",
    "    geom_point(color = \"#750eea\", size=4)+\n",
    "    theme_classic()\n",
    "    "
   ]
  },
  {
   "cell_type": "markdown",
   "metadata": {},
   "source": [
    "<br />"
   ]
  },
  {
   "cell_type": "code",
   "execution_count": null,
   "metadata": {},
   "outputs": [],
   "source": [
    "# merged\n",
    "ggplot(india, aes(x=as.numeric(Day), y=New.Cases)) +\n",
    "    geom_line(color = \"#148314\", size=2) +\n",
    "    geom_point(color = \"#ffffff\", size=3) +\n",
    "    geom_point(color = \"#148314\", size=4) +\n",
    "\n",
    "    geom_line(aes(y=Death.Rate), color = \"#750eea\", size=2, alpha = 0.6) +\n",
    "    geom_point(aes(y=Death.Rate), color = \"#ffffff\", size=3, alpha = 0.6) +\n",
    "    geom_point(aes(y=Death.Rate), color = \"#750eea\", size=4, alpha = 0.6) +\n",
    "    theme_classic()"
   ]
  },
  {
   "cell_type": "markdown",
   "metadata": {},
   "source": [
    "<br /><br />"
   ]
  },
  {
   "cell_type": "markdown",
   "metadata": {},
   "source": [
    "## Histograms"
   ]
  },
  {
   "cell_type": "code",
   "execution_count": null,
   "metadata": {},
   "outputs": [],
   "source": [
    "theme_set(theme_classic())"
   ]
  },
  {
   "cell_type": "code",
   "execution_count": null,
   "metadata": {},
   "outputs": [],
   "source": [
    "days = as.numeric(india$Day)\n",
    "#days"
   ]
  },
  {
   "cell_type": "markdown",
   "metadata": {},
   "source": [
    "<br />"
   ]
  },
  {
   "cell_type": "markdown",
   "metadata": {},
   "source": [
    "#### Confirmed"
   ]
  },
  {
   "cell_type": "code",
   "execution_count": null,
   "metadata": {},
   "outputs": [],
   "source": [
    "#### adding \n",
    "df = NULL\n",
    "\n",
    "d = NULL\n",
    "conf = NULL\n",
    "for(day in days){\n",
    "    d = c(d, rep(day, as.numeric(india$Confirmed[day])))\n",
    "    conf = c(conf, rep(1, as.numeric(india$Confirmed[day])))\n",
    "}\n",
    "\n",
    "df = cbind(Day = d, Confirmed = conf)"
   ]
  },
  {
   "cell_type": "code",
   "execution_count": null,
   "metadata": {},
   "outputs": [],
   "source": [
    "df = as.data.frame(df)"
   ]
  },
  {
   "cell_type": "code",
   "execution_count": null,
   "metadata": {},
   "outputs": [],
   "source": [
    "head(df)"
   ]
  },
  {
   "cell_type": "code",
   "execution_count": null,
   "metadata": {},
   "outputs": [],
   "source": [
    "# Confirmed cases with Days\n",
    "ggplot(df, aes(x = Day, fill = factor(Confirmed))) +\n",
    "  geom_histogram(binwidth = 0.5) +\n",
    "  xlab(\"Days\") +\n",
    "  ylab(\"Confirmed Cases\")"
   ]
  },
  {
   "cell_type": "markdown",
   "metadata": {},
   "source": [
    "<br /><br />\n"
   ]
  },
  {
   "cell_type": "markdown",
   "metadata": {},
   "source": [
    "#### New Cases"
   ]
  },
  {
   "cell_type": "code",
   "execution_count": null,
   "metadata": {},
   "outputs": [],
   "source": [
    "## adding new cases\n",
    "\n",
    "n = NULL\n",
    "for(day in days){\n",
    "    ones = as.numeric(india$New.Cases[day])\n",
    "    zeros = as.numeric(india$Confirmed[day]) - as.numeric(india$New.Cases[day])\n",
    "    \n",
    "    n = c(n, c(rep('New', ones), rep('Old', zeros)))\n",
    "    #n = c(n, c(rep(1, ones), rep(0, zeros)))\n",
    "}\n",
    "\n",
    "## 0: old cases\n",
    "## 1: new cases\n",
    "\n",
    "df = cbind(df, New = n)"
   ]
  },
  {
   "cell_type": "code",
   "execution_count": null,
   "metadata": {},
   "outputs": [],
   "source": [
    "head(df)"
   ]
  },
  {
   "cell_type": "code",
   "execution_count": null,
   "metadata": {},
   "outputs": [],
   "source": [
    "## days with old and new cases\n",
    "ggplot(df, aes(x = Day, fill = factor(New))) +\n",
    "  geom_histogram(binwidth = 0.5, position=\"dodge\") +\n",
    "  xlab(\"Days\") +\n",
    "  ylab(\"Total Count\") +\n",
    "  labs(fill = \"Confirmed Cases\")"
   ]
  },
  {
   "cell_type": "markdown",
   "metadata": {},
   "source": [
    "<br />"
   ]
  },
  {
   "cell_type": "markdown",
   "metadata": {},
   "source": [
    "#### Active Cases"
   ]
  },
  {
   "cell_type": "code",
   "execution_count": null,
   "metadata": {},
   "outputs": [],
   "source": [
    "## adding case-status (Active/Closed)\n",
    "# closed = 1\n",
    "# active = 0\n",
    "\n",
    "s = NULL\n",
    "for(day in days){\n",
    "    zeros = as.numeric(india$Active.Cases[day]) # active\n",
    "    ones = as.numeric(india$Closed.Cases[day]) # closed\n",
    "    \n",
    "    s = c(s, c(rep('Active', zeros), rep('Closed', ones)))\n",
    "    #s = c(s, c(rep(0, zeros), rep(1, ones)))\n",
    "}\n",
    "\n",
    "df = cbind(df, Status = s)"
   ]
  },
  {
   "cell_type": "code",
   "execution_count": null,
   "metadata": {},
   "outputs": [],
   "source": [
    "tail(df)"
   ]
  },
  {
   "cell_type": "code",
   "execution_count": null,
   "metadata": {},
   "outputs": [],
   "source": [
    "## days with status & confirmed\n",
    "ggplot(df, aes(x = Day, fill = factor(Status))) +\n",
    "  geom_histogram(binwidth = 0.5, position=\"dodge\") +\n",
    "  xlab(\"Days\") +\n",
    "  ylab(\"Total Count\") +\n",
    "  labs(fill = \"Confirmed Cases\")"
   ]
  },
  {
   "cell_type": "markdown",
   "metadata": {},
   "source": [
    "<br /><br />"
   ]
  },
  {
   "cell_type": "code",
   "execution_count": null,
   "metadata": {},
   "outputs": [],
   "source": [
    "# Adding deaths\n",
    "\n",
    "## 0: not dead\n",
    "## 1: dead\n",
    "flag.day = -1\n",
    "flag.deathCount = -1\n",
    "\n",
    "df = cbind(df, Deaths = NA)\n",
    "counter = 1\n",
    "\n",
    "for(day in days){\n",
    "        \n",
    "        conf = as.numeric(india$Confirmed[day])\n",
    "        deaths = as.numeric(india$Deaths[day])\n",
    "        for(i in 1:conf){\n",
    "            if(i > conf-deaths)\n",
    "            {\n",
    "                df$Deaths[counter] = 'Dead' #1\n",
    "                counter = counter+1\n",
    "            }\n",
    "            else\n",
    "            {\n",
    "                df$Deaths[counter] = 'Alive' #0\n",
    "                counter = counter+1\n",
    "            }\n",
    "        }\n",
    "}"
   ]
  },
  {
   "cell_type": "code",
   "execution_count": null,
   "metadata": {},
   "outputs": [],
   "source": [
    "tail(df)"
   ]
  },
  {
   "cell_type": "code",
   "execution_count": null,
   "metadata": {},
   "outputs": [],
   "source": [
    "## days with deaths & confirmed\n",
    "ggplot(df, aes(x = Day, fill = factor(Deaths))) +\n",
    "  geom_histogram(binwidth = 0.5, position=\"dodge\") +\n",
    "  xlab(\"Days\") +\n",
    "  ylab(\"Total Count\") +\n",
    "  labs(fill = \"Death Cases\")"
   ]
  },
  {
   "cell_type": "markdown",
   "metadata": {},
   "source": [
    "<br /><br />"
   ]
  },
  {
   "cell_type": "code",
   "execution_count": null,
   "metadata": {},
   "outputs": [],
   "source": [
    "# Adding Recovered\n",
    "df = cbind(df, Recovered = NA)\n",
    "## 0: not recovered\n",
    "## 1: recovered\n",
    "\n",
    "\n",
    "for(i in 1:nrow(df)){\n",
    "    if(df$Status[i] == 'Active'){\n",
    "        df$Recovered[i] = 'Not Recovered' #0\n",
    "    }\n",
    "    else{\n",
    "        if(df$Deaths[i] == 'Alive'){\n",
    "            df$Recovered[i] = 'Recovered' #1\n",
    "        }\n",
    "        else{\n",
    "            df$Recovered[i] = 'Not Recovered' #0\n",
    "        }\n",
    "    }\n",
    "}"
   ]
  },
  {
   "cell_type": "code",
   "execution_count": null,
   "metadata": {},
   "outputs": [],
   "source": [
    "#df = df[,-6]\n",
    "tail(df)"
   ]
  },
  {
   "cell_type": "code",
   "execution_count": null,
   "metadata": {},
   "outputs": [],
   "source": [
    "## days with recovered & confirmed\n",
    "ggplot(df, aes(x = Day, fill = factor(Recovered))) +\n",
    "  geom_histogram(binwidth = 0.5, position=\"dodge\") +\n",
    "  xlab(\"Days\") +\n",
    "  ylab(\"Total Count\") +\n",
    "  labs(fill = \"Confirmed Cases\")"
   ]
  },
  {
   "cell_type": "markdown",
   "metadata": {},
   "source": [
    "<br /><br />"
   ]
  },
  {
   "cell_type": "code",
   "execution_count": null,
   "metadata": {},
   "outputs": [],
   "source": [
    "# Adding Overall Status ---> active/dead/recovered\n",
    "df = cbind(df, Overall.Status = NA)\n",
    "## 0: not recovered\n",
    "## 1: recovered\n",
    "\n",
    "\n",
    "for(i in 1:nrow(df)){\n",
    "    if(df$Status[i] == 'Active'){\n",
    "        df$Overall.Status[i] = 'Active' #1  # active\n",
    "    }\n",
    "    else{\n",
    "        if(df$Deaths[i] == 'Alive'){\n",
    "            df$Overall.Status[i] = 'Alive' #2 # recovered\n",
    "        }\n",
    "        else{\n",
    "            df$Overall.Status[i] = 'Dead' #3 # dead\n",
    "        }\n",
    "    }\n",
    "}"
   ]
  },
  {
   "cell_type": "code",
   "execution_count": null,
   "metadata": {},
   "outputs": [],
   "source": [
    "tail(df)"
   ]
  },
  {
   "cell_type": "code",
   "execution_count": null,
   "metadata": {},
   "outputs": [],
   "source": [
    "## days with recovered & confirmed\n",
    "ggplot(df, aes(x = Day, fill = factor(Overall.Status))) +\n",
    "  geom_histogram(binwidth = 0.5, position=\"dodge\") +\n",
    "  xlab(\"Days\") +\n",
    "  ylab(\"Total Count\") +\n",
    "  labs(fill = \"Confirmed Cases\")"
   ]
  },
  {
   "cell_type": "markdown",
   "metadata": {},
   "source": [
    "<br /><br />"
   ]
  }
 ],
 "metadata": {
  "kernelspec": {
   "display_name": "R",
   "language": "R",
   "name": "ir"
  },
  "language_info": {
   "codemirror_mode": "r",
   "file_extension": ".r",
   "mimetype": "text/x-r-source",
   "name": "R",
   "pygments_lexer": "r",
   "version": "3.6.1"
  }
 },
 "nbformat": 4,
 "nbformat_minor": 2
}
